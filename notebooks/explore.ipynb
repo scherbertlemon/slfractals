{
 "cells": [
  {
   "cell_type": "code",
   "execution_count": null,
   "metadata": {},
   "outputs": [],
   "source": [
    "%load_ext autoreload\n",
    "%autoreload 2"
   ]
  },
  {
   "cell_type": "markdown",
   "metadata": {},
   "source": [
    "# Exploring the Mandelbrot set\n",
    "\n",
    "First, we obtain a grid in the complex plain: Adjust ``xb`` (real axis) and ``yb`` (imaginary axis) for the ranges, ``res`` for the number of points in each direction."
   ]
  },
  {
   "cell_type": "code",
   "execution_count": null,
   "metadata": {},
   "outputs": [],
   "source": [
    "import numpy as np\n",
    "import slfractals as sl\n",
    "from matplotlib import pyplot as plt\n",
    "from matplotlib import cm"
   ]
  },
  {
   "cell_type": "markdown",
   "metadata": {},
   "source": [
    "Define the polynomial in terms of variable (``z``) and initial value (``c``) that is going to be iterated on ``z``:"
   ]
  },
  {
   "cell_type": "code",
   "execution_count": null,
   "metadata": {},
   "outputs": [],
   "source": [
    "def poly(z, c):\n",
    "    return z**2 + c"
   ]
  },
  {
   "cell_type": "markdown",
   "metadata": {},
   "source": [
    "Run the iteration and investigate the occurring values for the iteration in the selected portion of the complex plain:"
   ]
  },
  {
   "cell_type": "markdown",
   "metadata": {},
   "source": [
    "List of colormaps: https://matplotlib.org/tutorials/colors/colormaps.html\n",
    "3D plotting tutorial: https://matplotlib.org/mpl_toolkits/mplot3d/tutorial.html"
   ]
  },
  {
   "cell_type": "code",
   "execution_count": null,
   "metadata": {},
   "outputs": [],
   "source": [
    "params = {\n",
    "    \"max_iter\": 400,\n",
    "    \"max_value\": 2,\n",
    "    \"xb\": (-1.8, 0.67),\n",
    "    \"yb\": (-1.2, 1.2),\n",
    "    \"reswidth\": 400,\n",
    "    \"cmap\": cm.RdBu\n",
    "}"
   ]
  },
  {
   "cell_type": "code",
   "execution_count": null,
   "metadata": {},
   "outputs": [],
   "source": [
    "def onzoom(event, ax):\n",
    "    xb = ax.get_xlim()\n",
    "    yb = ax.get_ylim()\n",
    "    C = sl.get_grid(xb, yb, resw=params[\"reswidth\"])\n",
    "    G, Z, niter = sl.poly_iter_serial(poly, C, max_value=params[\"max_value\"], max_iter=params[\"max_iter\"])\n",
    "    ax.clear()\n",
    "    ax.imshow(\n",
    "        G,\n",
    "        cmap=params[\"cmap\"],\n",
    "        extent=[*xb, *yb],\n",
    "        aspect=\"equal\"\n",
    "    )"
   ]
  },
  {
   "cell_type": "code",
   "execution_count": null,
   "metadata": {
    "scrolled": false
   },
   "outputs": [],
   "source": [
    "%matplotlib notebook\n",
    "\n",
    "fig = plt.figure(num=1, figsize=(4.5, 3), dpi=200)\n",
    "fig.clear()\n",
    "ax = fig.add_subplot(111)\n",
    "ax.set_xlim(*params[\"xb\"])\n",
    "ax.set_ylim(*params[\"yb\"])\n",
    "onzoom(_, ax)\n",
    "cid = fig.canvas.mpl_connect(\"button_release_event\", lambda event: onzoom(\n",
    "    event,\n",
    "    ax\n",
    "))"
   ]
  },
  {
   "cell_type": "code",
   "execution_count": null,
   "metadata": {},
   "outputs": [],
   "source": [
    "fig.canvas.mpl_disconnect(cid)"
   ]
  },
  {
   "cell_type": "code",
   "execution_count": null,
   "metadata": {
    "scrolled": false
   },
   "outputs": [],
   "source": [
    "renderwidth = 1920\n",
    "xb = ax.get_xlim()\n",
    "yb = ax.get_ylim()\n",
    "C = sl.get_grid(xb, yb, resw=renderwidth, ratio=9./16.)\n",
    "G, Z, niter = sl.poly_iter_serial(poly, C, max_value=params[\"max_value\"], max_iter=params[\"max_iter\"])\n",
    "dpi = 300\n",
    "figs = plt.figure(num=2, figsize=(C.shape[1]/dpi, C.shape[0]/dpi), dpi=dpi)\n",
    "figs.clear()\n",
    "ax2 = figs.add_axes([0,0,1,1])\n",
    "ax2.imshow(G, cmap=params[\"cmap\"])\n",
    "ax.set_position((0,0,1,1))\n",
    "plt.axis(\"off\")\n",
    "plt.savefig(sl.get_render_filename(\"files\"))"
   ]
  }
 ],
 "metadata": {
  "kernelspec": {
   "display_name": "Python 3",
   "language": "python",
   "name": "python3"
  },
  "language_info": {
   "codemirror_mode": {
    "name": "ipython",
    "version": 3
   },
   "file_extension": ".py",
   "mimetype": "text/x-python",
   "name": "python",
   "nbconvert_exporter": "python",
   "pygments_lexer": "ipython3",
   "version": "3.8.5"
  }
 },
 "nbformat": 4,
 "nbformat_minor": 4
}
