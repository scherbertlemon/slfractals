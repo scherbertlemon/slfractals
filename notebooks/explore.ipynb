{
 "cells": [
  {
   "cell_type": "code",
   "execution_count": null,
   "metadata": {},
   "outputs": [],
   "source": [
    "%load_ext autoreload\n",
    "%autoreload 2"
   ]
  },
  {
   "cell_type": "markdown",
   "metadata": {},
   "source": [
    "# Exploring Fractal Sets\n",
    "\n",
    "With ths notebook, you can navigate through a fractal set and render pictures from the plot. First some imports and definitions: You also can define a complex polynomial here, that will applied to the numbers in the complex plane."
   ]
  },
  {
   "cell_type": "code",
   "execution_count": null,
   "metadata": {},
   "outputs": [],
   "source": [
    "import numpy as np\n",
    "import slfractals as slf\n",
    "from matplotlib import pyplot as plt\n",
    "from matplotlib import cm\n",
    "\n",
    "def poly(z, c):\n",
    "    return z**2 + c"
   ]
  },
  {
   "cell_type": "markdown",
   "metadata": {},
   "source": [
    "* Define the polynomial in terms of variable (``z``) and initial value (``c``) that is going to be iterated on ``z``.\n",
    "* You cannot render in parallel with ``poly``, you must use a pre-defined function from ``slf.polynomials``. Rendering in serial way is fine.\n",
    "\n",
    "We can now run the iteration and investigate the occurring values for the iteration in the selected portion of the complex plain. First, we set some parameters for the preview.\n",
    "* List of colormaps: https://matplotlib.org/tutorials/colors/colormaps.html"
   ]
  },
  {
   "cell_type": "code",
   "execution_count": null,
   "metadata": {},
   "outputs": [],
   "source": [
    "params = {\n",
    "    \"max_iter\": 200,\n",
    "    \"max_value\": 2,\n",
    "    \"xb\": (-1.8, 0.67),\n",
    "    \"yb\": (-1.2, 1.2),\n",
    "    \"reswidth\": 301,\n",
    "    \"cmap\": cm.RdYlGn.reversed()\n",
    "}"
   ]
  },
  {
   "cell_type": "markdown",
   "metadata": {},
   "source": [
    "## Preview\n",
    "\n",
    "Navigate the figure (zoom and pan) to explore the fractal set. A recomputation will be issued on the fly. Experiment with the parameters ``max_iter`` and ``max_value`` to get a feeling for what they do."
   ]
  },
  {
   "cell_type": "code",
   "execution_count": null,
   "metadata": {
    "scrolled": false
   },
   "outputs": [],
   "source": [
    "%matplotlib notebook\n",
    "\n",
    "def onzoom(event, ax):\n",
    "    xb = ax.get_xlim()\n",
    "    yb = ax.get_ylim()\n",
    "    C = slf.get_grid(xb, yb, resw=params[\"reswidth\"])\n",
    "    G = slf.serial_compute(poly, C, max_value=params[\"max_value\"], max_iter=params[\"max_iter\"], colorexp=2)\n",
    "    ax.clear()\n",
    "    ax.imshow(\n",
    "        G,\n",
    "        cmap=params[\"cmap\"],\n",
    "        extent=[*xb, *yb],\n",
    "        aspect=\"equal\"\n",
    "    )\n",
    "\n",
    "fig = plt.figure(num=1, figsize=(4.5, 3.5), dpi=200)\n",
    "fig.clear()\n",
    "ax = fig.add_subplot(111)\n",
    "ax.set_xlim(*params[\"xb\"])\n",
    "ax.set_ylim(*params[\"yb\"])\n",
    "onzoom(_, ax)\n",
    "cid = fig.canvas.mpl_connect(\"button_release_event\", lambda event: onzoom(\n",
    "    event,\n",
    "    ax\n",
    "))"
   ]
  },
  {
   "cell_type": "markdown",
   "metadata": {},
   "source": [
    "## Rendering\n",
    "\n",
    "You can set different parameters for rendering here:"
   ]
  },
  {
   "cell_type": "code",
   "execution_count": null,
   "metadata": {},
   "outputs": [],
   "source": [
    "renderwidth = 1920\n",
    "print_max_iter = 300\n",
    "xb = ax.get_xlim()\n",
    "yb = ax.get_ylim()\n",
    "print(xb, yb)"
   ]
  },
  {
   "cell_type": "markdown",
   "metadata": {},
   "source": [
    "### Serial rendering\n",
    "\n",
    "Use rendering on one core, if you have defined a custom polynomial in ``poly``."
   ]
  },
  {
   "cell_type": "code",
   "execution_count": null,
   "metadata": {
    "scrolled": false
   },
   "outputs": [],
   "source": [
    "%%timeit -r 1 -n 1\n",
    "G = slf.serial_compute(\n",
    "    poly,\n",
    "    slf.get_grid(xb, yb, resw=renderwidth, ratio=\"16:9\"),\n",
    "    max_value=params[\"max_value\"],\n",
    "    max_iter=print_max_iter\n",
    ")\n",
    "slf.render_picture(G, \"files\", cmap=params[\"cmap\"])"
   ]
  },
  {
   "cell_type": "markdown",
   "metadata": {},
   "source": [
    "### Parallel rendering \n",
    "\n",
    "Parallel rendering on multiple cores is restricted to pre-defined polynomials from ``slf.polynomials``. It is an issue with ``multiprocessing.Pool`` not allowing being able to pickle lambda functions or functions defined in the notebook. Adapt ``nproc`` to the available computing cores."
   ]
  },
  {
   "cell_type": "code",
   "execution_count": null,
   "metadata": {},
   "outputs": [],
   "source": [
    "%%timeit -r 1 -n 1\n",
    "G = slf.parallel_compute(\n",
    "    slf.mandel,\n",
    "    slf.get_grid(xb, yb, resw=renderwidth, ratio=\"16:9\"),\n",
    "    max_value=params[\"max_value\"],\n",
    "    max_iter=print_max_iter,\n",
    "    nproc=2\n",
    ")\n",
    "slf.render_picture(G, \"files\", cmap=params[\"cmap\"])"
   ]
  },
  {
   "cell_type": "code",
   "execution_count": null,
   "metadata": {},
   "outputs": [],
   "source": [
    "from matplotlib.cm import inferno\n",
    "inferno(100)"
   ]
  }
 ],
 "metadata": {
  "kernelspec": {
   "display_name": "Python 3",
   "language": "python",
   "name": "python3"
  },
  "language_info": {
   "codemirror_mode": {
    "name": "ipython",
    "version": 3
   },
   "file_extension": ".py",
   "mimetype": "text/x-python",
   "name": "python",
   "nbconvert_exporter": "python",
   "pygments_lexer": "ipython3",
   "version": "3.8.0"
  }
 },
 "nbformat": 4,
 "nbformat_minor": 4
}
