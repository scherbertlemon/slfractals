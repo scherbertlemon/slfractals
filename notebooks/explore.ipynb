{
 "cells": [
  {
   "cell_type": "markdown",
   "metadata": {},
   "source": [
    "# Exploring the Mandelbrot set\n",
    "\n",
    "First, we obtain a grid in the complex plain: Adjust ``xb`` (real axis) and ``yb`` (imaginary axis) for the ranges, ``res`` for the number of points in each direction."
   ]
  },
  {
   "cell_type": "code",
   "execution_count": null,
   "metadata": {},
   "outputs": [],
   "source": [
    "import numpy as np\n",
    "import scipy as sc\n",
    "from slfractals import poly_iter, get_grid, gradient_func, get_render_filename\n",
    "from matplotlib import pyplot as plt\n",
    "from matplotlib import cm\n",
    "\n",
    "xb = (-1.8, 0.67)\n",
    "yb = (-1.2, 1.2)\n",
    "res = (300, 300)\n",
    "C = get_grid(xb, yb, res)"
   ]
  },
  {
   "cell_type": "markdown",
   "metadata": {},
   "source": [
    "Define the polynomial in terms of variable (``z``) and initial value (``c``) that is going to be iterated on ``z``:"
   ]
  },
  {
   "cell_type": "code",
   "execution_count": null,
   "metadata": {},
   "outputs": [],
   "source": [
    "def poly(z, c):\n",
    "    return z**2 + c\n",
    "mycmap = cm.RdBu"
   ]
  },
  {
   "cell_type": "markdown",
   "metadata": {},
   "source": [
    "Run the iteration and investigate the occurring values for the iteration in the selected portion of the complex plain:"
   ]
  },
  {
   "cell_type": "markdown",
   "metadata": {},
   "source": [
    "List of colormaps: https://matplotlib.org/tutorials/colors/colormaps.html\n",
    "3D plotting tutorial: https://matplotlib.org/mpl_toolkits/mplot3d/tutorial.html"
   ]
  },
  {
   "cell_type": "code",
   "execution_count": null,
   "metadata": {},
   "outputs": [],
   "source": [
    "def onzoom(event, ax, res=(100, 100), max_value=2, max_iter=100, cmap=cm.RdBu):\n",
    "    xb = ax.get_xlim()\n",
    "    yb = ax.get_ylim()\n",
    "    C = get_grid(xb, yb, res)\n",
    "    Z, niter = poly_iter(poly, C, max_value=max_value, max_iter=max_iter)\n",
    "    ax.clear()\n",
    "    ax.imshow(\n",
    "        gradient_func(niter, np.abs(Z), 2),\n",
    "        cmap=cmap,\n",
    "        extent=[*xb, *yb],\n",
    "        aspect=\"equal\"\n",
    "    )"
   ]
  },
  {
   "cell_type": "code",
   "execution_count": null,
   "metadata": {
    "scrolled": false
   },
   "outputs": [],
   "source": [
    "%matplotlib notebook\n",
    "\n",
    "fig = plt.figure(num=1, figsize=(4.5, 3), dpi=200)\n",
    "fig.clear()\n",
    "ax = fig.add_subplot(111)\n",
    "ax.set_xlim(*xb)\n",
    "ax.set_ylim(*yb)\n",
    "cid = fig.canvas.mpl_connect(\"button_release_event\", lambda event: onzoom(\n",
    "    event,\n",
    "    ax,\n",
    "    res=(300, 300),\n",
    "    max_value=7,\n",
    "    max_iter=200,\n",
    "    cmap=mycmap\n",
    "))"
   ]
  },
  {
   "cell_type": "code",
   "execution_count": null,
   "metadata": {},
   "outputs": [],
   "source": [
    "fig.canvas.mpl_disconnect(cid)"
   ]
  },
  {
   "cell_type": "code",
   "execution_count": null,
   "metadata": {
    "scrolled": true
   },
   "outputs": [],
   "source": [
    "renderres = (2560, 1440)\n",
    "# renderres = (1920, 1080)\n",
    "# renderres = (1280, 720)\n",
    "xb = ax.get_xlim()\n",
    "yb = ax.get_ylim()\n",
    "ratio = (xb[1] - xb[0])/16*9\n",
    "nyb = (0.5*(sum(yb) - ratio), 0.5*(sum(yb) + ratio))\n",
    "C = get_grid(xb, nyb, renderres)\n",
    "Z, niter = poly_iter(poly, C, max_value=10, max_iter=400)\n",
    "dpi = 300\n",
    "figs = plt.figure(num=2, figsize=(renderres[0]/dpi, renderres[1]/dpi), dpi=dpi)\n",
    "figs.clear()\n",
    "ax2 = figs.add_axes([0,0,1,1])\n",
    "ax2.imshow(gradient_func(niter, np.abs(Z), 2), cmap=mycmap)\n",
    "ax.set_position((0,0,1,1))\n",
    "plt.axis(\"off\")\n",
    "plt.savefig(get_render_filename(\"files\"))"
   ]
  },
  {
   "cell_type": "code",
   "execution_count": null,
   "metadata": {},
   "outputs": [],
   "source": []
  }
 ],
 "metadata": {
  "kernelspec": {
   "display_name": "Python 3",
   "language": "python",
   "name": "python3"
  },
  "language_info": {
   "codemirror_mode": {
    "name": "ipython",
    "version": 3
   },
   "file_extension": ".py",
   "mimetype": "text/x-python",
   "name": "python",
   "nbconvert_exporter": "python",
   "pygments_lexer": "ipython3",
   "version": "3.8.5"
  }
 },
 "nbformat": 4,
 "nbformat_minor": 4
}
