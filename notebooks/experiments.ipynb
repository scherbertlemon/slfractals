{
 "cells": [
  {
   "cell_type": "code",
   "execution_count": null,
   "metadata": {},
   "outputs": [],
   "source": [
    "%load_ext autoreload\n",
    "%autoreload 2"
   ]
  },
  {
   "cell_type": "markdown",
   "metadata": {},
   "source": [
    "# Experimenting with ``slfractals``\n",
    "\n",
    "Some initialisations:"
   ]
  },
  {
   "cell_type": "code",
   "execution_count": null,
   "metadata": {},
   "outputs": [],
   "source": [
    "import slfractals as slf\n",
    "from matplotlib import pyplot as plt\n",
    "from multiprocessing import Pool\n",
    "from time import time\n",
    "\n",
    "xlim = (-1.8, 1.)\n",
    "ylim = (-0.9, 0.9)"
   ]
  },
  {
   "cell_type": "markdown",
   "metadata": {},
   "source": [
    "## Generating a grid"
   ]
  },
  {
   "cell_type": "code",
   "execution_count": null,
   "metadata": {},
   "outputs": [],
   "source": [
    "C1 = slf.get_grid(xlim, ylim, resw=10)\n",
    "# display(C1)\n",
    "C2 = slf.get_grid(xlim, ylim, resw=10, ratio=\"28:16\")\n",
    "# display(C2)\n",
    "C = slf.get_grid(xlim, ylim, resw=2560)"
   ]
  },
  {
   "cell_type": "markdown",
   "metadata": {},
   "source": [
    "## Computing"
   ]
  },
  {
   "cell_type": "code",
   "execution_count": null,
   "metadata": {},
   "outputs": [],
   "source": [
    "comp = slf.Compute(slf.mandel, max_value=5, max_iter=300)"
   ]
  },
  {
   "cell_type": "markdown",
   "metadata": {},
   "source": [
    "All at once:"
   ]
  },
  {
   "cell_type": "code",
   "execution_count": null,
   "metadata": {},
   "outputs": [],
   "source": [
    "start = time()\n",
    "grad, _ = comp(C.flatten())\n",
    "grad1 = grad.reshape(C.shape)\n",
    "print(\"Elapsed time: {}s\".format(time() - start))"
   ]
  },
  {
   "cell_type": "code",
   "execution_count": null,
   "metadata": {},
   "outputs": [],
   "source": [
    "%matplotlib inline\n",
    "plt.imshow(grad1)"
   ]
  },
  {
   "cell_type": "markdown",
   "metadata": {},
   "source": [
    "Split and join, serially:"
   ]
  },
  {
   "cell_type": "code",
   "execution_count": null,
   "metadata": {},
   "outputs": [],
   "source": [
    "start = time()\n",
    "spl = slf.split(C.flatten(), nportions=4)\n",
    "grads, comps2 = zip(*map(comp, spl))\n",
    "grad2 = slf.join_shape(grads, *C.shape)\n",
    "print(\"Elapsed time: {}s\".format(time() - start))"
   ]
  },
  {
   "cell_type": "code",
   "execution_count": null,
   "metadata": {
    "scrolled": true
   },
   "outputs": [],
   "source": [
    "%matplotlib inline\n",
    "plt.imshow(grad2)"
   ]
  },
  {
   "cell_type": "markdown",
   "metadata": {},
   "source": [
    "Split and join, with ``Pool``:"
   ]
  },
  {
   "cell_type": "code",
   "execution_count": null,
   "metadata": {},
   "outputs": [],
   "source": [
    "start = time()\n",
    "with Pool(2) as p:\n",
    "    res = p.map(comp, slf.split(C.flatten(), nportions=4))\n",
    "grads, comps3 = zip(*res)\n",
    "grad3 = slf.join_shape(grads, *C.shape)\n",
    "print(\"Elapsed time: {}s\".format(time() - start))"
   ]
  },
  {
   "cell_type": "code",
   "execution_count": null,
   "metadata": {},
   "outputs": [],
   "source": [
    "%matplotlib inline\n",
    "plt.imshow(grad3)"
   ]
  },
  {
   "cell_type": "markdown",
   "metadata": {},
   "source": [
    "Generating a new compute object for every batch:"
   ]
  },
  {
   "cell_type": "code",
   "execution_count": null,
   "metadata": {},
   "outputs": [],
   "source": [
    "start = time()\n",
    "with Pool(2) as p:\n",
    "    res = p.map(slf.Compute(slf.mandel, max_value=5, max_iter=300), slf.split(C.flatten(), nportions=4))\n",
    "grads, comps4 = zip(*res)\n",
    "grad4 = slf.join_shape(grads, *C.shape)\n",
    "print(\"Elapsed time: {}s\".format(time() - start))"
   ]
  },
  {
   "cell_type": "code",
   "execution_count": null,
   "metadata": {},
   "outputs": [],
   "source": [
    "%matplotlib inline\n",
    "plt.imshow(grad4)"
   ]
  },
  {
   "cell_type": "markdown",
   "metadata": {},
   "source": [
    "* To compute in parallel pool, the compute object is pickled and thus copied to each separate thread, resulting in a different memory id compared to the original (``comp3``)\n",
    "* If we create a new compute object directly in ``Pool.map``, then of course we have another id from the beginning. (``comp4``)"
   ]
  },
  {
   "cell_type": "code",
   "execution_count": null,
   "metadata": {},
   "outputs": [],
   "source": [
    "print(\"Original:  {}\".format(id(comp)))\n",
    "print(\"comps2  : {}\".format(list(map(id, comps2))))\n",
    "print(\"comps3  : {}\".format(list(map(id, comps3))))\n",
    "print(\"comps4  : {}\".format(list(map(id, comps4))))"
   ]
  },
  {
   "cell_type": "markdown",
   "metadata": {},
   "source": [
    "Functions to compute serially or in parallel:"
   ]
  },
  {
   "cell_type": "code",
   "execution_count": null,
   "metadata": {},
   "outputs": [],
   "source": [
    "start = time()\n",
    "grad_serial = slf.serial_compute(\n",
    "    slf.mandel,\n",
    "    C,\n",
    "    max_iter=300,\n",
    "    max_value=5,\n",
    "    colorexp=2\n",
    ")\n",
    "print(\"Serial time: {}s\".format(time() - start))"
   ]
  },
  {
   "cell_type": "code",
   "execution_count": null,
   "metadata": {},
   "outputs": [],
   "source": [
    "start = time()\n",
    "grad_parallel = slf.parallel_compute(\n",
    "    slf.mandel,\n",
    "    C,\n",
    "    max_iter=300,\n",
    "    max_value=5,\n",
    "    colorexp=2,\n",
    "    nproc=2\n",
    ")\n",
    "print(\"Serial time: {}s\".format(time() - start))"
   ]
  },
  {
   "cell_type": "code",
   "execution_count": null,
   "metadata": {},
   "outputs": [],
   "source": [
    "%matplotlib inline\n",
    "ax1 = plt.subplot(121)\n",
    "ax1.imshow(grad_serial)\n",
    "ax2 = plt.subplot(122)\n",
    "ax2.imshow(grad_parallel)"
   ]
  }
 ],
 "metadata": {
  "kernelspec": {
   "display_name": "Python 3",
   "language": "python",
   "name": "python3"
  },
  "language_info": {
   "codemirror_mode": {
    "name": "ipython",
    "version": 3
   },
   "file_extension": ".py",
   "mimetype": "text/x-python",
   "name": "python",
   "nbconvert_exporter": "python",
   "pygments_lexer": "ipython3",
   "version": "3.8.5"
  }
 },
 "nbformat": 4,
 "nbformat_minor": 4
}
