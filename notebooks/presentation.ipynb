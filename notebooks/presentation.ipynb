{
 "cells": [
  {
   "cell_type": "code",
   "execution_count": null,
   "id": "8af7f6b7",
   "metadata": {
    "slideshow": {
     "slide_type": "skip"
    }
   },
   "outputs": [],
   "source": [
    "%load_ext autoreload\n",
    "%autoreload 2"
   ]
  },
  {
   "cell_type": "code",
   "execution_count": null,
   "id": "89a97a27",
   "metadata": {
    "slideshow": {
     "slide_type": "skip"
    }
   },
   "outputs": [],
   "source": [
    "from IPython.core.display import HTML\n",
    "with open(\"style/notebook.css\", \"r\") as f:\n",
    "    s = f\"<style>{f.read()}</style>\"\n",
    "HTML(s)"
   ]
  },
  {
   "cell_type": "code",
   "execution_count": null,
   "id": "ae584d50",
   "metadata": {
    "slideshow": {
     "slide_type": "skip"
    }
   },
   "outputs": [],
   "source": [
    "from bokeh.plotting import figure, ColumnDataSource\n",
    "from bokeh.io import show, output_notebook, push_notebook\n",
    "import numpy as np\n",
    "import slfractals as slf\n",
    "\n",
    "output_notebook()"
   ]
  },
  {
   "cell_type": "markdown",
   "id": "f1a98c82",
   "metadata": {
    "slideshow": {
     "slide_type": "slide"
    }
   },
   "source": [
    "<div class=\"title\">\n",
    "\n",
    "<h1 class=\"title\">Fun with fractals</h1>\n",
    " \n",
    "Exploring fractal sets defined on the complex number plane\n",
    "    \n",
    "*by Andreas Roth*\n",
    "\n",
    "**2022-01-13**\n",
    "</div>"
   ]
  },
  {
   "cell_type": "markdown",
   "id": "40a80c99",
   "metadata": {
    "slideshow": {
     "slide_type": "slide"
    }
   },
   "source": [
    "<div class=\"sect\">\n",
    "    \n",
    "## What are fractals?\n",
    "\n",
    "Objects with a fractal nature exhibit the following properties:\n",
    "\n",
    "* **self-similarity:** a fractal is composed of smaller copies of itself (not always exact)\n",
    "* **complex structure on all scales:** There are rich, complex and repeating features regardless of scale\n",
    "\n",
    "</div>"
   ]
  },
  {
   "cell_type": "markdown",
   "id": "fade215b",
   "metadata": {
    "slideshow": {
     "slide_type": "subslide"
    }
   },
   "source": [
    "<figure>\n",
    "<img src=\"img/Romanesco_Brassica_oleracea_Richard_Bartz.jpg\" width=\"70%\">\n",
    "<figcaption>\n",
    "\n",
    "<small>Romanesco Brassica oleracea (Author: [Richard Bartz](https://commons.wikimedia.org/wiki/User:Richard_Bartz), License: [CC BY-SA 2.5](https://creativecommons.org/licenses/by-sa/2.5/deed.en))</small>\n",
    "\n",
    "</figcaption>\n",
    "</figure>"
   ]
  },
  {
   "cell_type": "markdown",
   "id": "2979d361",
   "metadata": {
    "slideshow": {
     "slide_type": "slide"
    }
   },
   "source": [
    "<div class=\"sect\">\n",
    "\n",
    "## The first (published) fractal in mathematics\n",
    "    \n",
    "The *Koch curve* or *Koch snowflake* is an example of a curve that is continous everywhere, and nowhere differentiable.\n",
    "    \n",
    "[Helge von Koch](https://en.wikipedia.org/wiki/Helge_von_Koch), *On a continuous curve without tangents constructible from elementary geometry* (1904)\n",
    " \n",
    "</div>"
   ]
  },
  {
   "cell_type": "markdown",
   "id": "864a0d34",
   "metadata": {
    "slideshow": {
     "slide_type": "subslide"
    }
   },
   "source": [
    "## The Koch snowflake"
   ]
  },
  {
   "cell_type": "code",
   "execution_count": null,
   "id": "27336dff",
   "metadata": {
    "cell_style": "center",
    "hide_input": true,
    "slideshow": {
     "slide_type": "-"
    }
   },
   "outputs": [],
   "source": [
    "koch = slf.KochCurve(appearance=\"curve\")\n",
    "p = figure(width=1150, height=300, match_aspect=True)\n",
    "p.line(source=koch.cds, x=\"x\", y=\"y\", line_width=3)\n",
    "p.axis.visible = False\n",
    "p.xgrid.grid_line_color = None\n",
    "p.ygrid.grid_line_color = None\n",
    "nh = show(p, notebook_handle=True)"
   ]
  },
  {
   "cell_type": "code",
   "execution_count": null,
   "id": "3caf986e",
   "metadata": {
    "cell_style": "center"
   },
   "outputs": [],
   "source": [
    "koch.increment(by=1)\n",
    "push_notebook(handle=nh)"
   ]
  },
  {
   "cell_type": "markdown",
   "id": "5aa2e332",
   "metadata": {
    "slideshow": {
     "slide_type": "subslide"
    }
   },
   "source": [
    "## The Koch snowflake"
   ]
  },
  {
   "cell_type": "code",
   "execution_count": null,
   "id": "4040fc79",
   "metadata": {
    "cell_style": "split",
    "hide_input": true,
    "scrolled": true
   },
   "outputs": [],
   "source": [
    "koch2 = slf.KochCurve(appearance=\"snowflake\")\n",
    "p = figure(width=500, height=500, match_aspect=True)\n",
    "p.line(source=koch2.cds, x=\"x\", y=\"y\", line_width=3)\n",
    "p.axis.visible = False\n",
    "p.xgrid.grid_line_color = None\n",
    "p.ygrid.grid_line_color = None\n",
    "koch2.increment(by=5)\n",
    "show(p)"
   ]
  },
  {
   "cell_type": "markdown",
   "id": "9f9c2fcf",
   "metadata": {
    "cell_style": "split"
   },
   "source": [
    "* self-similar &#10004;\n",
    "* complex (?), at least infinitely detailed, repeating structure on all scales &#10004;\n",
    "\n",
    "Koch Curve has *infinite length*, however *bounded area is finite*!"
   ]
  },
  {
   "cell_type": "markdown",
   "id": "6026d6fc",
   "metadata": {
    "slideshow": {
     "slide_type": "slide"
    }
   },
   "source": [
    "<div class=\"sect\">\n",
    "\n",
    "## Fractal sets on the complex number plane\n",
    "\n",
    "&#128214; [B.Mandelbrot](https://en.wikipedia.org/wiki/Benoit_Mandelbrot), *The Fractal Geometry of Nature*, W. H. Freeman and Co. (1982)\n",
    "    \n",
    "</div>\n",
    "\n",
    "<img src=\"img/fractal_1.jpg\">"
   ]
  },
  {
   "cell_type": "code",
   "execution_count": null,
   "id": "58573313",
   "metadata": {
    "slideshow": {
     "slide_type": "skip"
    }
   },
   "outputs": [],
   "source": [
    "#xlim = (-0.7461760346346757, -0.7461759788974921); ylim = (0.11127920936647617, 0.11127922442548596)\n",
    "from time import time\n",
    "start = time()\n",
    "show(slf.Fractal(xlim = (-0.7461760346346757, -0.7461759788974921), ylim = (0.11127920936647617, 0.11127922442548596), resw=1000, max_iter=2000, nproc=4).plot())\n",
    "print(f\"{time()-start}s\")"
   ]
  },
  {
   "cell_type": "markdown",
   "id": "102b61ce",
   "metadata": {
    "slideshow": {
     "slide_type": "subslide"
    }
   },
   "source": [
    "## Complex numbers: an extension of the real numbers"
   ]
  },
  {
   "cell_type": "markdown",
   "id": "e4f7854e",
   "metadata": {
    "cell_style": "split",
    "slideshow": {
     "slide_type": "fragment"
    }
   },
   "source": [
    "a complex number $z\\in\\mathbb{C}$ has the form\n",
    "$$\n",
    "    z = x + i \\cdot y\n",
    "$$\n",
    "\n",
    "* $i$ is the imaginary unit with the property $i^2=-1$\n",
    "* $x\\in\\mathbb{R}$ is the real part \n",
    "* $y\\in\\mathbb{R}$ is the imaginary part\n",
    "* $|z| = \\sqrt{x^2+y^2}$ is the absolute value"
   ]
  },
  {
   "cell_type": "markdown",
   "id": "03584fdf",
   "metadata": {
    "cell_style": "split",
    "slideshow": {
     "slide_type": "fragment"
    }
   },
   "source": [
    "<img src=\"img/number_plane.jpg\" width=\"80%\">"
   ]
  },
  {
   "cell_type": "markdown",
   "id": "7736781b",
   "metadata": {
    "slideshow": {
     "slide_type": "subslide"
    }
   },
   "source": [
    "## Complex numbers: an extension of the real numbers\n",
    "\n",
    "Calculations work the same way as for the real numbers, just keeping real and imaginary part separate and applying $i^2 = -1$:\n",
    "\n",
    "\\begin{align}\n",
    "(1+2i)^2 &= (1+2i) \\cdot (1+2i) \\\\\n",
    "&= 1\\cdot 1 + 1\\cdot2i + 2i\\cdot 1 + (2i)\\cdot(2i) \\\\\n",
    "&= 1+4i-4 \\\\\n",
    "&= -3 +4i \n",
    "\\end{align}\n",
    "\n",
    "and we can have all we know from other number sets, like functions of complex numbers, or sequences of them."
   ]
  },
  {
   "cell_type": "markdown",
   "id": "dbf93e55",
   "metadata": {
    "slideshow": {
     "slide_type": "subslide"
    }
   },
   "source": [
    "## Repeated evaluation of rational functions\n",
    "\n",
    "Given any $c\\in\\mathbb{C}$ and $f_c(z) = z^2 + c$, look at sequences of numbers $(z_n)_{n\\in\\mathbb{N}}$ with\n",
    "\n",
    "\\begin{align}\n",
    "z_0 &= 0 \\\\\n",
    "z_{n+1} &=f_c(z_n)=z_n^2 +c\n",
    "\\end{align}\n",
    "\n",
    "there are 2 possibilities based on $c$\n",
    "\n",
    "* $|z_n|$ stays bounded: $\\exists C\\in\\mathbb{R}: |z_n|<C \\;\\;\\forall n$\n",
    "* $|z_n|$ grows without bound\n",
    "\n",
    "$f$ can be any other polynomial.\n"
   ]
  },
  {
   "cell_type": "markdown",
   "id": "254a52a6",
   "metadata": {
    "slideshow": {
     "slide_type": "subslide"
    }
   },
   "source": [
    "## Repeated evaluation of rational functions\n",
    "\n",
    "e.g. $c=-1$, sequence $(z_n)_n$ alternates, bounded:"
   ]
  },
  {
   "cell_type": "code",
   "execution_count": null,
   "id": "ec386f83",
   "metadata": {
    "hide_input": true
   },
   "outputs": [],
   "source": [
    "slf.sequence(lambda z: z**2 - 1 , z=0, n=20)"
   ]
  },
  {
   "cell_type": "markdown",
   "id": "58e8990f",
   "metadata": {
    "slideshow": {
     "slide_type": "fragment"
    }
   },
   "source": [
    "e.g. $c=i$, sequence $(z_n)_n$ alternates, bounded:"
   ]
  },
  {
   "cell_type": "code",
   "execution_count": null,
   "id": "5101282a",
   "metadata": {
    "hide_input": true,
    "scrolled": true
   },
   "outputs": [],
   "source": [
    "slf.sequence(lambda z: z**2 + 1j , z=0, n=10)"
   ]
  },
  {
   "cell_type": "markdown",
   "id": "26c97515",
   "metadata": {
    "slideshow": {
     "slide_type": "fragment"
    }
   },
   "source": [
    "e.g. $c=2+2i$, sequence $(z_n)_n$ is unbounded:"
   ]
  },
  {
   "cell_type": "code",
   "execution_count": null,
   "id": "741973b5",
   "metadata": {
    "hide_input": true
   },
   "outputs": [],
   "source": [
    "slf.sequence(lambda z: z**2 + 2 + 2j , z=0, n=5)"
   ]
  },
  {
   "cell_type": "markdown",
   "id": "8f5b5f3e",
   "metadata": {
    "cell_style": "center",
    "slideshow": {
     "slide_type": "subslide"
    }
   },
   "source": [
    "## coloring numbers according to behavior"
   ]
  },
  {
   "cell_type": "markdown",
   "id": "d6899a52",
   "metadata": {
    "cell_style": "split",
    "slideshow": {
     "slide_type": "fragment"
    }
   },
   "source": [
    "We look at the *set of complex numbers where the sequence of based on repeated evaulation of $f_c(z) = z^2 + c$ stays bounded*\n",
    "\n",
    "Those will occupy an area on the complex number plane, right?\n",
    "\n",
    "Let's color the numbers with bounded sequence black."
   ]
  },
  {
   "cell_type": "code",
   "execution_count": null,
   "id": "465d01a5",
   "metadata": {
    "cell_style": "split",
    "hide_input": true,
    "slideshow": {
     "slide_type": "fragment"
    }
   },
   "outputs": [],
   "source": [
    "show(slf.Fractal(resw=500, poly=slf.mandel, max_iter=70).plot())"
   ]
  },
  {
   "cell_type": "markdown",
   "id": "81ce3705",
   "metadata": {
    "cell_style": "center",
    "slideshow": {
     "slide_type": "subslide"
    }
   },
   "source": [
    "### for $f_c(z) = z^4 + c$             and $f_c(z) = z^5 + c$"
   ]
  },
  {
   "cell_type": "code",
   "execution_count": null,
   "id": "a22a371b",
   "metadata": {
    "cell_style": "split",
    "hide_input": true,
    "slideshow": {
     "slide_type": "fragment"
    }
   },
   "outputs": [],
   "source": [
    "vp = slf.Fractal(xlim=(-1.2, 1.2), ylim=(-1.2, 1.2), resw=550, poly=slf.zp4, max_iter=35)\n",
    "show(vp.plot())"
   ]
  },
  {
   "cell_type": "code",
   "execution_count": null,
   "id": "ceb25724",
   "metadata": {
    "cell_style": "split",
    "hide_input": true,
    "slideshow": {
     "slide_type": "fragment"
    }
   },
   "outputs": [],
   "source": [
    "vp.comp_param[\"max_iter\"] = 25\n",
    "vp.poly = slf.zp5\n",
    "show(vp.plot())"
   ]
  },
  {
   "cell_type": "markdown",
   "id": "8ce9f4d4",
   "metadata": {
    "slideshow": {
     "slide_type": "subslide"
    }
   },
   "source": [
    "### Varying the exponent from 1 to 4, so $f_c(z) = z^d +c, 1 < d \\le 4$"
   ]
  },
  {
   "cell_type": "code",
   "execution_count": null,
   "id": "a229221a",
   "metadata": {
    "cell_style": "split",
    "hide_input": false
   },
   "outputs": [],
   "source": [
    "vp = slf.Fractal((-1.5, 0.9), (-1.25, 1.25), resw=400, poly=lambda z, c: z + c, max_iter=50, calc_fun=slf.serial_compute)\n",
    "nh = show(vp.plot(), notebook_handle=True)"
   ]
  },
  {
   "cell_type": "code",
   "execution_count": null,
   "id": "cb6d9a3f",
   "metadata": {
    "cell_style": "split"
   },
   "outputs": [],
   "source": [
    "for d in np.linspace(1.1, 4, 50):\n",
    "    vp.poly = lambda z, c: z**d + c\n",
    "    push_notebook(handle=nh)"
   ]
  },
  {
   "cell_type": "markdown",
   "id": "f0f1d838",
   "metadata": {
    "slideshow": {
     "slide_type": "subslide"
    }
   },
   "source": [
    "## What about the fractal properties?\n",
    "\n",
    "Let's zoom in:"
   ]
  },
  {
   "cell_type": "code",
   "execution_count": null,
   "id": "0a53cc5b",
   "metadata": {
    "hide_input": true,
    "scrolled": true
   },
   "outputs": [],
   "source": [
    "lims = [\n",
    "    {\"xlim\": (-1.8, 1.0), \"ylim\": (-0.8, 0.8), \"max_iter\":70},\n",
    "    {\"xlim\": (-0.8469467739357451, -0.7098901379935), \"ylim\": (0.17007084393699703, 0.23826260403053853), \"max_iter\":100},\n",
    "    {\"xlim\": (-0.8068760745573608, -0.7949446690544475), \"ylim\": (0.17972431554355933, 0.18531690862703154), \"max_iter\":300},\n",
    "    {\"xlim\": (-0.8041723480428702, -0.8035509965822837), \"ylim\": (0.18154653272120028, 0.18183777803006518), \"max_iter\":600},\n",
    "    {\"xlim\": (-0.8039965083142456, -0.8039795368113285), \"ylim\": (0.18172875474809908, 0.18173670977986836), \"max_iter\":1200},\n",
    "    {\"xlim\": (-0.8039942821850602, -0.8039938347902356), \"ylim\": (0.18173488871237856, 0.18173509841920543), \"max_iter\":1500},\n",
    "    {\"xlim\": (-0.8039941723910227, -0.8039941711732712), \"ylim\": (0.1817349844082922, 0.181734984979087), \"max_iter\":2000}\n",
    "    \n",
    "]\n",
    "for lim in lims:\n",
    "    mandelbrot = slf.Fractal(**lim, resw=900, poly=slf.mandel, nproc=4)\n",
    "    show(mandelbrot.plot())"
   ]
  },
  {
   "cell_type": "markdown",
   "id": "707038da",
   "metadata": {
    "slideshow": {
     "slide_type": "slide"
    }
   },
   "source": [
    "<div class=\"sect\">\n",
    "    \n",
    "## Explore fractal sets for yourself!\n",
    "    \n",
    "\n",
    "* Run the interactive app!\n",
    "    \n",
    "        docker compose up slfractals\n",
    "    \n",
    "* In your browser, visit http://localhost:5006\n",
    "\n",
    "</div>"
   ]
  },
  {
   "cell_type": "markdown",
   "id": "d162340d",
   "metadata": {
    "slideshow": {
     "slide_type": "slide"
    }
   },
   "source": [
    "<div class=\"title\">\n",
    "    \n",
    "<h1 class=\"title\">Thanks for your attention</h1>\n",
    "    \n",
    "Time for your questions!\n",
    "    \n",
    "</div>    "
   ]
  },
  {
   "cell_type": "code",
   "execution_count": null,
   "id": "00ca93a2",
   "metadata": {
    "slideshow": {
     "slide_type": "skip"
    }
   },
   "outputs": [],
   "source": [
    "lim = {\"xlim\": (0.25434613209578555, 0.25827297672210214), \"ylim\": (-0.0015196795967191896, -0.0003614331344158294)}\n",
    "show(slf.Fractal(**lim, poly=slf.mandel, resw=1000, max_iter=500, nproc=4).plot())"
   ]
  },
  {
   "cell_type": "markdown",
   "id": "776597a4",
   "metadata": {
    "slideshow": {
     "slide_type": "skip"
    }
   },
   "source": [
    "## Picture generation\n",
    "\n",
    "Input:\n",
    "* grid on the number plane\n",
    "* maximum number of allowed iterations $I_{max}$\n",
    "* maximum bound $V_{max}$ after which we consider a sequence unbounded\n",
    "\n",
    "For all grid points $c$:\n",
    "\n",
    "* compute $z_{n+1} = f(z_n)$ as long as $n<I_{max}$ and $|z_n|<V_{max}$\n",
    "* store the maximum reached $n$, assign a color based on its value\n",
    "\n",
    "Then, we render colors in each grid point as colorful pixels!"
   ]
  }
 ],
 "metadata": {
  "celltoolbar": "Slideshow",
  "kernelspec": {
   "display_name": "Python 3 (ipykernel)",
   "language": "python",
   "name": "python3"
  },
  "language_info": {
   "codemirror_mode": {
    "name": "ipython",
    "version": 3
   },
   "file_extension": ".py",
   "mimetype": "text/x-python",
   "name": "python",
   "nbconvert_exporter": "python",
   "pygments_lexer": "ipython3",
   "version": "3.11.7"
  },
  "rise": {
   "autolaunch": false,
   "footer": "<h4><b>Andreas Roth</b> | 2022-01-13</h4><img src='style/ornament.jpg'>",
   "header": "<h2>Fun with fractals</h2>"
  }
 },
 "nbformat": 4,
 "nbformat_minor": 5
}
