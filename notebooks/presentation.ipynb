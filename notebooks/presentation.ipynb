{
 "cells": [
  {
   "cell_type": "code",
   "execution_count": null,
   "id": "89a97a27",
   "metadata": {
    "slideshow": {
     "slide_type": "skip"
    }
   },
   "outputs": [],
   "source": [
    "from IPython.core.display import HTML\n",
    "with open(\"style/notebook.css\", \"r\") as f:\n",
    "    s = f\"<style>{f.read()}</style>\"\n",
    "HTML(s)"
   ]
  },
  {
   "cell_type": "code",
   "execution_count": null,
   "id": "ae584d50",
   "metadata": {
    "slideshow": {
     "slide_type": "skip"
    }
   },
   "outputs": [],
   "source": [
    "from bokeh.plotting import figure, ColumnDataSource\n",
    "from bokeh.io import show, output_notebook, push_notebook\n",
    "from bokeh.layouts import row\n",
    "import numpy as np\n",
    "import slfractals\n",
    "\n",
    "output_notebook()"
   ]
  },
  {
   "cell_type": "markdown",
   "id": "f1a98c82",
   "metadata": {
    "slideshow": {
     "slide_type": "slide"
    }
   },
   "source": [
    "<div class=\"title\">\n",
    "\n",
    "<h1 class=\"title\">Fun with fractals</h1>\n",
    " \n",
    "Exploring fractal sets defined on the complex number plane\n",
    "    \n",
    "*by Andreas Roth*\n",
    "\n",
    "**2022-01-13**\n",
    "</div>"
   ]
  },
  {
   "cell_type": "markdown",
   "id": "40a80c99",
   "metadata": {
    "slideshow": {
     "slide_type": "slide"
    }
   },
   "source": [
    "<div class=\"sect\">\n",
    "    \n",
    "## Fractal structures\n",
    "    \n",
    "<div class=\"row\">\n",
    "    \n",
    "<div class=\"column\">\n",
    "\n",
    "<figure>\n",
    "<img src=\"img/Romanesco_Brassica_oleracea_Richard_Bartz.jpg\">\n",
    "<figcaption>\n",
    "\n",
    "Romanesco Brassica oleracea  \n",
    "<small>Author: [Richard Bartz](https://commons.wikimedia.org/wiki/User:Richard_Bartz)</small>\n",
    "<small>License: [CC BY-SA 2.5](https://creativecommons.org/licenses/by-sa/2.5/deed.en)</small>\n",
    "\n",
    "</figcaption>\n",
    "</figure>\n",
    "</div>\n",
    "<div class=\"column\">\n",
    "\n",
    "* **self-similarity:** an object consists of small copies of itself. Copies do not have to be exact copies.\n",
    "* **scaling invariance:** one sees the same structures regardless of the \"zoom level\"\n",
    "    \n",
    "&#128214; B.Mandelbrot, *The Fractal Geometry of Nature*, W. H. Freeman and Co. (1982)\n",
    "    \n",
    "</div>\n",
    "</div>\n",
    "    \n",
    "\n",
    "</div>"
   ]
  },
  {
   "cell_type": "markdown",
   "id": "df5d47c5",
   "metadata": {},
   "source": [
    "## An extension of real numbers\n",
    "\n",
    "a complex number $z\\in\\mathbb{C}$ has the form\n",
    "$$\n",
    "    z = z_1 + i \\cdot z_2\n",
    "$$\n",
    "\n",
    "* $i$ is the imaginary unit with the property $i^2=-1$\n",
    "* $z_1\\in\\mathbb{R}$ is the real part \n",
    "* $z_2\\in\\mathbb{R}$ is the imaginary part"
   ]
  },
  {
   "cell_type": "markdown",
   "id": "dbf93e55",
   "metadata": {
    "slideshow": {
     "slide_type": "subslide"
    }
   },
   "source": [
    "## Basic ideas\n",
    "\n",
    "Given $c\\in\\mathbb{C}$ and $f(z) = z^2 + c$, look at sequences of numbers $(z_n)_{n\\in\\mathbb{N}}$ with\n",
    "\n",
    "\\begin{align}\n",
    "z_0 &= 0 \\\\\n",
    "z_{n+1} &=f(z_n)=z_n^2 +c\n",
    "\\end{align}\n",
    "\n",
    "there are 2 possibilities based on $c$\n",
    "\n",
    "* $|z_n|$ stays bounded: $\\exists C\\in\\mathbb{R}: |z_n|<C \\;\\;\\forall n$\n",
    "* $|z_n|$ grows without bound\n",
    "\n",
    "$f$ can be any polynomial.\n"
   ]
  },
  {
   "cell_type": "markdown",
   "id": "776597a4",
   "metadata": {},
   "source": [
    "## Picture generation\n",
    "\n",
    "Input:\n",
    "* grid on the number plane\n",
    "* maximum number of allowed iterations $I_{max}$\n",
    "* maximum bound $V_{max}$ after which we consider a sequence unbounded\n",
    "\n",
    "For all grid points $c$:\n",
    "\n",
    "* compute $z_{n+1} = f(z_n)$ as long as $n<I_{max}$ and $|z_n|<V_{max}$\n",
    "* store the maximum reached $n$, assign a color based on its value\n",
    "\n",
    "Then, we render colors in each grid point as colorful pixels!"
   ]
  },
  {
   "cell_type": "markdown",
   "id": "0005bba0",
   "metadata": {
    "slideshow": {
     "slide_type": "subslide"
    }
   },
   "source": [
    "## Letting the particles move"
   ]
  },
  {
   "cell_type": "code",
   "execution_count": null,
   "id": "cf0efc55",
   "metadata": {
    "slideshow": {
     "slide_type": "-"
    }
   },
   "outputs": [],
   "source": [
    "nh = show(swarm.plot(plot_width=600, plot_height=600), notebook_handle=True)"
   ]
  },
  {
   "cell_type": "code",
   "execution_count": null,
   "id": "6a20cf55",
   "metadata": {
    "slideshow": {
     "slide_type": "-"
    }
   },
   "outputs": [],
   "source": [
    "swarm.evolve(0.1, 10).update_cds()\n",
    "push_notebook(handle=nh)"
   ]
  },
  {
   "cell_type": "markdown",
   "id": "e7fc506f",
   "metadata": {
    "slideshow": {
     "slide_type": "subslide"
    }
   },
   "source": [
    "### More interactive"
   ]
  },
  {
   "cell_type": "markdown",
   "id": "d162340d",
   "metadata": {
    "slideshow": {
     "slide_type": "slide"
    }
   },
   "source": [
    "<div class=\"title\">\n",
    "    \n",
    "<h1 class=\"title\">Thanks for your attention</h1>\n",
    "    \n",
    "Time for your questions!\n",
    "    \n",
    "</div>    "
   ]
  }
 ],
 "metadata": {
  "celltoolbar": "Slideshow",
  "kernelspec": {
   "display_name": "Python 3 (ipykernel)",
   "language": "python",
   "name": "python3"
  },
  "language_info": {
   "codemirror_mode": {
    "name": "ipython",
    "version": 3
   },
   "file_extension": ".py",
   "mimetype": "text/x-python",
   "name": "python",
   "nbconvert_exporter": "python",
   "pygments_lexer": "ipython3",
   "version": "3.9.9"
  },
  "rise": {
   "autolaunch": false,
   "footer": "<h4><b>Andreas Roth</b> | 2022-01-13</h4><img src='style/ornament.png'>",
   "header": "<h2>Fun with fractals</h2>"
  }
 },
 "nbformat": 4,
 "nbformat_minor": 5
}
