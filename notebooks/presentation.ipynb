{
 "cells": [
  {
   "cell_type": "code",
   "execution_count": null,
   "id": "8af7f6b7",
   "metadata": {},
   "outputs": [],
   "source": [
    "%load_ext autoreload\n",
    "%autoreload 2"
   ]
  },
  {
   "cell_type": "code",
   "execution_count": null,
   "id": "89a97a27",
   "metadata": {
    "slideshow": {
     "slide_type": "skip"
    }
   },
   "outputs": [],
   "source": [
    "from IPython.core.display import HTML\n",
    "with open(\"style/notebook.css\", \"r\") as f:\n",
    "    s = f\"<style>{f.read()}</style>\"\n",
    "HTML(s)"
   ]
  },
  {
   "cell_type": "code",
   "execution_count": null,
   "id": "ae584d50",
   "metadata": {
    "slideshow": {
     "slide_type": "skip"
    }
   },
   "outputs": [],
   "source": [
    "from bokeh.plotting import figure, ColumnDataSource\n",
    "from bokeh.io import show, output_notebook, push_notebook\n",
    "import slfractals as slf\n",
    "\n",
    "output_notebook()"
   ]
  },
  {
   "cell_type": "markdown",
   "id": "f1a98c82",
   "metadata": {
    "slideshow": {
     "slide_type": "slide"
    }
   },
   "source": [
    "<div class=\"title\">\n",
    "\n",
    "<h1 class=\"title\">Fun with fractals</h1>\n",
    " \n",
    "Exploring fractal sets defined on the complex number plane\n",
    "    \n",
    "*by Andreas Roth*\n",
    "\n",
    "**2022-01-13**\n",
    "</div>"
   ]
  },
  {
   "cell_type": "markdown",
   "id": "40a80c99",
   "metadata": {
    "slideshow": {
     "slide_type": "slide"
    }
   },
   "source": [
    "<div class=\"sect\">\n",
    "    \n",
    "## What are fractals?\n",
    "\n",
    "Objects with a fractal nature exhibit the following properties:\n",
    "\n",
    "* **self-similarity:** a fractal is composed of smaller copies of itself (not always exact)\n",
    "* **complex structure on all scales:** There are rich, complex and repeating features regardless of scale\n",
    "\n",
    "</div>"
   ]
  },
  {
   "cell_type": "markdown",
   "id": "fade215b",
   "metadata": {
    "slideshow": {
     "slide_type": "subslide"
    }
   },
   "source": [
    "<figure>\n",
    "<img src=\"img/Romanesco_Brassica_oleracea_Richard_Bartz.jpg\" width=\"70%\">\n",
    "<figcaption>\n",
    "\n",
    "<small>Romanesco Brassica oleracea (Author: [Richard Bartz](https://commons.wikimedia.org/wiki/User:Richard_Bartz), License: [CC BY-SA 2.5](https://creativecommons.org/licenses/by-sa/2.5/deed.en))</small>\n",
    "\n",
    "</figcaption>\n",
    "</figure>"
   ]
  },
  {
   "cell_type": "markdown",
   "id": "2979d361",
   "metadata": {
    "slideshow": {
     "slide_type": "slide"
    }
   },
   "source": [
    "<div class=\"sect\" style=\"background-color:red\">\n",
    "\n",
    "## The first (published) fractal in mathematics\n",
    "    \n",
    "The *Koch curve* or *Koch snowflake* is an example of a curve that is continous everywhere, and nowhere differentiable.\n",
    "    \n",
    "[Helge von Koch](https://en.wikipedia.org/wiki/Helge_von_Koch), *On a continuous curve without tangents constructible from elementary geometry* (1904)\n",
    " \n",
    "</div>"
   ]
  },
  {
   "cell_type": "markdown",
   "id": "864a0d34",
   "metadata": {
    "slideshow": {
     "slide_type": "subslide"
    }
   },
   "source": [
    "## The Koch snowflake"
   ]
  },
  {
   "cell_type": "code",
   "execution_count": null,
   "id": "27336dff",
   "metadata": {
    "cell_style": "center",
    "hide_input": true,
    "slideshow": {
     "slide_type": "-"
    }
   },
   "outputs": [],
   "source": [
    "koch = slf.KochCurve(appearance=\"curve\")\n",
    "p = figure(plot_width=1150, plot_height=300, match_aspect=True)\n",
    "p.line(source=koch.cds, x=\"x\", y=\"y\", line_width=3)\n",
    "p.axis.visible = False\n",
    "p.xgrid.grid_line_color = None\n",
    "p.ygrid.grid_line_color = None\n",
    "nh = show(p, notebook_handle=True)"
   ]
  },
  {
   "cell_type": "code",
   "execution_count": null,
   "id": "3caf986e",
   "metadata": {
    "cell_style": "center"
   },
   "outputs": [],
   "source": [
    "koch.increment(by=1)\n",
    "push_notebook(handle=nh)"
   ]
  },
  {
   "cell_type": "markdown",
   "id": "5aa2e332",
   "metadata": {
    "slideshow": {
     "slide_type": "subslide"
    }
   },
   "source": [
    "## The Koch snowflake"
   ]
  },
  {
   "cell_type": "code",
   "execution_count": null,
   "id": "4040fc79",
   "metadata": {
    "cell_style": "split",
    "hide_input": true,
    "scrolled": true
   },
   "outputs": [],
   "source": [
    "koch2 = slf.KochCurve(appearance=\"snowflake\")\n",
    "p = figure(plot_width=500, plot_height=500, match_aspect=True)\n",
    "p.line(source=koch2.cds, x=\"x\", y=\"y\", line_width=3)\n",
    "p.axis.visible = False\n",
    "p.xgrid.grid_line_color = None\n",
    "p.ygrid.grid_line_color = None\n",
    "koch2.increment(by=5)\n",
    "show(p)"
   ]
  },
  {
   "cell_type": "markdown",
   "id": "9f9c2fcf",
   "metadata": {
    "cell_style": "split"
   },
   "source": [
    "* self-similar &#10004;\n",
    "* complex (?), at least infinitely detailed, repeating structure on all scales &#10004;\n",
    "\n",
    "Koch Curve has *infinite length*, however *bounded area is finite*!"
   ]
  },
  {
   "cell_type": "markdown",
   "id": "6026d6fc",
   "metadata": {
    "slideshow": {
     "slide_type": "slide"
    }
   },
   "source": [
    "<div class=\"sect\">\n",
    "\n",
    "## Fractal sets on the complex number plane\n",
    "\n",
    "&#128214; [B.Mandelbrot](https://en.wikipedia.org/wiki/Benoit_Mandelbrot), *The Fractal Geometry of Nature*, W. H. Freeman and Co. (1982)\n",
    "    \n",
    "</div>\n",
    "\n",
    "<img src=\"img/fractal_1.jpg\">"
   ]
  },
  {
   "cell_type": "code",
   "execution_count": null,
   "id": "58573313",
   "metadata": {
    "slideshow": {
     "slide_type": "skip"
    }
   },
   "outputs": [],
   "source": [
    "xlim = (-0.7461760346346757, -0.7461759788974921); ylim = (0.11127920936647617, 0.11127922442548596)\n",
    "grid = slf.get_grid(xlim, ylim, resw=1500)\n",
    "from slfractals.colors import blueorangeblue\n",
    "img = slf.parallel_compute(slf.mandel, grid, max_iter=2000, nproc=4)\n",
    "p = slf.plot_one(img, grid, palette=blueorangeblue(300))\n",
    "p.axis.visible = False\n",
    "show(p)"
   ]
  },
  {
   "cell_type": "code",
   "execution_count": null,
   "id": "d24d23e5",
   "metadata": {},
   "outputs": [],
   "source": [
    "list(map(abs, slf.recursive_apply(lambda z: slf.mandel(z, 3-1j), z=0, n=5)))"
   ]
  },
  {
   "cell_type": "markdown",
   "id": "df5d47c5",
   "metadata": {
    "slideshow": {
     "slide_type": "subslide"
    }
   },
   "source": [
    "## An extension of real numbers\n",
    "\n",
    "a complex number $z\\in\\mathbb{C}$ has the form\n",
    "$$\n",
    "    z = z_1 + i \\cdot z_2\n",
    "$$\n",
    "\n",
    "* $i$ is the imaginary unit with the property $i^2=-1$\n",
    "* $z_1\\in\\mathbb{R}$ is the real part \n",
    "* $z_2\\in\\mathbb{R}$ is the imaginary part"
   ]
  },
  {
   "cell_type": "markdown",
   "id": "dbf93e55",
   "metadata": {
    "slideshow": {
     "slide_type": "subslide"
    }
   },
   "source": [
    "## Basic ideas\n",
    "\n",
    "Given $c\\in\\mathbb{C}$ and $f(z) = z^2 + c$, look at sequences of numbers $(z_n)_{n\\in\\mathbb{N}}$ with\n",
    "\n",
    "\\begin{align}\n",
    "z_0 &= 0 \\\\\n",
    "z_{n+1} &=f(z_n)=z_n^2 +c\n",
    "\\end{align}\n",
    "\n",
    "there are 2 possibilities based on $c$\n",
    "\n",
    "* $|z_n|$ stays bounded: $\\exists C\\in\\mathbb{R}: |z_n|<C \\;\\;\\forall n$\n",
    "* $|z_n|$ grows without bound\n",
    "\n",
    "$f$ can be any polynomial.\n"
   ]
  },
  {
   "cell_type": "markdown",
   "id": "776597a4",
   "metadata": {},
   "source": [
    "## Picture generation\n",
    "\n",
    "Input:\n",
    "* grid on the number plane\n",
    "* maximum number of allowed iterations $I_{max}$\n",
    "* maximum bound $V_{max}$ after which we consider a sequence unbounded\n",
    "\n",
    "For all grid points $c$:\n",
    "\n",
    "* compute $z_{n+1} = f(z_n)$ as long as $n<I_{max}$ and $|z_n|<V_{max}$\n",
    "* store the maximum reached $n$, assign a color based on its value\n",
    "\n",
    "Then, we render colors in each grid point as colorful pixels!"
   ]
  },
  {
   "cell_type": "markdown",
   "id": "0005bba0",
   "metadata": {
    "slideshow": {
     "slide_type": "subslide"
    }
   },
   "source": [
    "## Letting the particles move"
   ]
  },
  {
   "cell_type": "code",
   "execution_count": null,
   "id": "6a20cf55",
   "metadata": {
    "cell_style": "split",
    "slideshow": {
     "slide_type": "-"
    }
   },
   "outputs": [],
   "source": [
    "swarm.evolve(0.1, 10).update_cds()\n",
    "push_notebook(handle=nh)"
   ]
  },
  {
   "cell_type": "markdown",
   "id": "e7fc506f",
   "metadata": {
    "cell_style": "split",
    "slideshow": {
     "slide_type": "subslide"
    }
   },
   "source": [
    "### More interactive"
   ]
  },
  {
   "cell_type": "markdown",
   "id": "d162340d",
   "metadata": {
    "slideshow": {
     "slide_type": "slide"
    }
   },
   "source": [
    "<div class=\"title\">\n",
    "    \n",
    "<h1 class=\"title\">Thanks for your attention</h1>\n",
    "    \n",
    "Time for your questions!\n",
    "    \n",
    "</div>    "
   ]
  }
 ],
 "metadata": {
  "celltoolbar": "Slideshow",
  "kernelspec": {
   "display_name": "Python 3 (ipykernel)",
   "language": "python",
   "name": "python3"
  },
  "language_info": {
   "codemirror_mode": {
    "name": "ipython",
    "version": 3
   },
   "file_extension": ".py",
   "mimetype": "text/x-python",
   "name": "python",
   "nbconvert_exporter": "python",
   "pygments_lexer": "ipython3",
   "version": "3.9.9"
  },
  "rise": {
   "autolaunch": false,
   "footer": "<h4><b>Andreas Roth</b> | 2022-01-13</h4><img src='style/ornament.png'>",
   "header": "<h2>Fun with fractals</h2>"
  }
 },
 "nbformat": 4,
 "nbformat_minor": 5
}
